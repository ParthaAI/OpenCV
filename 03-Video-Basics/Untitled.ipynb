{
 "cells": [
  {
   "cell_type": "code",
   "execution_count": 1,
   "id": "466e0bbb-f966-43bb-8358-5d370a9dea4a",
   "metadata": {},
   "outputs": [],
   "source": [
    "import cv2"
   ]
  },
  {
   "cell_type": "code",
   "execution_count": 3,
   "id": "e4ad4755-4e76-495c-b2f7-a5dd8e9a4e05",
   "metadata": {},
   "outputs": [],
   "source": [
    "cap=cv2.VideoCapture(0)\n",
    "\n",
    "while 1:\n",
    "    res,frame=cap.read()\n",
    "    cv2.imshow(\"frame\",frame)\n",
    "    if cv2.waitKey(1) & 0xFF==ord('q'):\n",
    "        break\n",
    "cap.release()\n",
    "cv2.destroyAllWindows()"
   ]
  },
  {
   "cell_type": "code",
   "execution_count": 17,
   "id": "0a5ba8e5-34b1-4e01-87f4-7d2a93fd51f0",
   "metadata": {},
   "outputs": [],
   "source": [
    "import wget"
   ]
  },
  {
   "cell_type": "code",
   "execution_count": null,
   "id": "31a87b14-1481-4d12-bf88-375f599924df",
   "metadata": {},
   "outputs": [],
   "source": [
    "wget.download(\"data:image/jpeg;base64,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\",\"/sonu\")"
   ]
  },
  {
   "cell_type": "code",
   "execution_count": 33,
   "id": "28f21354-3a4f-4d69-9c50-cab447d7bd25",
   "metadata": {},
   "outputs": [],
   "source": [
    "def process(string):  \n",
    "    from itertools import groupby\n",
    "\n",
    "    def split_text(s):\n",
    "        for k, g in groupby(s, str.isalpha):\n",
    "            yield ''.join(g)\n",
    "    l=list(split_text(string))\n",
    "    hi=''\n",
    "    for i in l:\n",
    "        j=[]\n",
    "        j=list(i)\n",
    "        j.sort()\n",
    "        hi+=''.join(j)\n",
    "    print(hi)\n",
    "    return\n"
   ]
  },
  {
   "cell_type": "code",
   "execution_count": 34,
   "id": "206d58df-d832-45c8-a6e9-04dd8493b23c",
   "metadata": {},
   "outputs": [
    {
     "name": "stdout",
     "output_type": "stream",
     "text": [
      "ab12hlw55\n"
     ]
    }
   ],
   "source": [
    "print(hi(\"ba12hlw55\"))"
   ]
  },
  {
   "cell_type": "code",
   "execution_count": null,
   "id": "e2543374-2b58-40d2-b2fa-a3df7187963f",
   "metadata": {},
   "outputs": [],
   "source": []
  }
 ],
 "metadata": {
  "kernelspec": {
   "display_name": "Python 3",
   "language": "python",
   "name": "python3"
  },
  "language_info": {
   "codemirror_mode": {
    "name": "ipython",
    "version": 3
   },
   "file_extension": ".py",
   "mimetype": "text/x-python",
   "name": "python",
   "nbconvert_exporter": "python",
   "pygments_lexer": "ipython3",
   "version": "3.8.8"
  },
  "toc-showmarkdowntxt": true
 },
 "nbformat": 4,
 "nbformat_minor": 5
}
